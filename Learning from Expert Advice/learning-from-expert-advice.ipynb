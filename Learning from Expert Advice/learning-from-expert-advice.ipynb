{
 "cells": [
  {
   "cell_type": "markdown",
   "metadata": {},
   "source": [
    "# Learning from Expert Advice"
   ]
  },
  {
   "cell_type": "markdown",
   "metadata": {},
   "source": [
    "### import packages"
   ]
  },
  {
   "cell_type": "code",
   "execution_count": 6,
   "metadata": {},
   "outputs": [],
   "source": [
    "import random\n",
    "import matplotlib.pyplot as plt\n",
    "\n",
    "random.seed(42)"
   ]
  },
  {
   "cell_type": "markdown",
   "metadata": {},
   "source": [
    "### The weighted majority algorithm"
   ]
  },
  {
   "cell_type": "code",
   "execution_count": 47,
   "metadata": {},
   "outputs": [
    {
     "name": "stdout",
     "output_type": "stream",
     "text": [
      "1:正解は['B']，専門家が選択したのは['A', 'A', 'A']専門家のウェイトは[0.8, 0.8, 0.8]\n",
      "2:正解は['A']，専門家が選択したのは['B', 'A', 'A']専門家のウェイトは[0.6000000000000001, 0.8, 0.8]\n",
      "3:正解は['B']，専門家が選択したのは['B', 'A', 'A']専門家のウェイトは[0.6000000000000001, 0.6000000000000001, 0.6000000000000001]\n"
     ]
    }
   ],
   "source": [
    "class wm:\n",
    "  def __init__(self, experts, experts_weight):\n",
    "    self.true_list = []\n",
    "    self.W_A = 0  # Initialize W_A and W_B\n",
    "    self.W_B = 0\n",
    "    for i in range(len(experts)):\n",
    "      if experts[i] == \"A\":\n",
    "        self.W_A += experts_weight[i]*1\n",
    "      else:\n",
    "        self.W_B += experts_weight[i]*1\n",
    "\n",
    "  def predict(self):\n",
    "    # a majoritiy's prediction\n",
    "    if self.W_A >= self.W_B:\n",
    "      self.prediction = \"A\"\n",
    "    else:\n",
    "      self.prediction = \"B\"\n",
    "\n",
    "  def update(self, true, epsilon):\n",
    "    self.true_list.append(true)\n",
    "    if self.prediction == true:\n",
    "      for i in range(len(experts)):\n",
    "        if experts[i] == self.prediction:\n",
    "          pass\n",
    "        else:\n",
    "          experts_weight[i] -= epsilon\n",
    "    else:\n",
    "      for i in range(len(experts)):\n",
    "        if experts[i] == self.prediction:\n",
    "          experts_weight[i] -= epsilon\n",
    "        else:\n",
    "          pass\n",
    "\n",
    "  def plot(self):\n",
    "    A = 0\n",
    "    B = 0\n",
    "    n_A = 0\n",
    "    n_B = 0\n",
    "    for i in range(len(experts)):\n",
    "      if experts[i] == \"A\":\n",
    "        A += experts_weight[i]\n",
    "        n_A += 1\n",
    "      else:\n",
    "        B += experts_weight[i]\n",
    "        n_B += 1\n",
    "    x = [\"A\", \"B\"]\n",
    "    y = [A/n_A, B/n_B]\n",
    "    plt.bar(x, y)\n",
    "    plt.show()\n",
    "\n",
    "\n",
    "n = 3\n",
    "experts_weight = [1]*n\n",
    "\n",
    "for i in range(3):\n",
    "  experts = [random.choice([\"A\", \"B\"]) for i in range(n)]\n",
    "  wm1 = wm(experts, experts_weight)\n",
    "  wm1.predict()\n",
    "  wm1.update(random.choice([\"A\", \"B\"]), 0.2)\n",
    "  print(f\"{i+1}:正解は{wm1.true_list}，専門家が選択したのは{experts}専門家のウェイトは{experts_weight}\")"
   ]
  },
  {
   "cell_type": "code",
   "execution_count": null,
   "metadata": {},
   "outputs": [],
   "source": []
  }
 ],
 "metadata": {
  "kernelspec": {
   "display_name": "Python 3",
   "language": "python",
   "name": "python3"
  },
  "language_info": {
   "codemirror_mode": {
    "name": "ipython",
    "version": 3
   },
   "file_extension": ".py",
   "mimetype": "text/x-python",
   "name": "python",
   "nbconvert_exporter": "python",
   "pygments_lexer": "ipython3",
   "version": "3.11.0"
  },
  "orig_nbformat": 4
 },
 "nbformat": 4,
 "nbformat_minor": 2
}
