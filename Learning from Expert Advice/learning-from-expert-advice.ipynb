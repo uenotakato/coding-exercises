{
 "cells": [
  {
   "cell_type": "markdown",
   "metadata": {},
   "source": [
    "# Learning from Expert Advice"
   ]
  },
  {
   "cell_type": "markdown",
   "metadata": {},
   "source": [
    "### import packages"
   ]
  },
  {
   "cell_type": "code",
   "execution_count": 6,
   "metadata": {},
   "outputs": [],
   "source": [
    "import random\n",
    "import matplotlib.pyplot as plt\n",
    "\n",
    "random.seed(42)"
   ]
  },
  {
   "cell_type": "markdown",
   "metadata": {},
   "source": [
    "### The weighted majority algorithm"
   ]
  },
  {
   "cell_type": "code",
   "execution_count": 47,
   "metadata": {},
   "outputs": [
    {
     "name": "stdout",
     "output_type": "stream",
     "text": [
      "1:正解は['B']，専門家が選択したのは['A', 'A', 'A']専門家のウェイトは[0.8, 0.8, 0.8]\n",
      "2:正解は['A']，専門家が選択したのは['B', 'A', 'A']専門家のウェイトは[0.6000000000000001, 0.8, 0.8]\n",
      "3:正解は['B']，専門家が選択したのは['B', 'A', 'A']専門家のウェイトは[0.6000000000000001, 0.6000000000000001, 0.6000000000000001]\n"
     ]
    }
   ],
   "source": [
    "class wm:\n",
    "  def __init__(self, experts, experts_weight):\n",
    "    self.true_list = []\n",
    "    self.W_A = 0  # Initialize W_A and W_B\n",
    "    self.W_B = 0\n",
    "    for i in range(len(experts)):\n",
    "      if experts[i] == \"A\":\n",
    "        self.W_A += experts_weight[i]*1\n",
    "      else:\n",
    "        self.W_B += experts_weight[i]*1\n",
    "\n",
    "  def predict(self):\n",
    "    # a majoritiy's prediction\n",
    "    if self.W_A >= self.W_B:\n",
    "      self.prediction = \"A\"\n",
    "    else:\n",
    "      self.prediction = \"B\"\n",
    "\n",
    "  def update(self, true, epsilon):\n",
    "    self.true_list.append(true)\n",
    "    if self.prediction == true:\n",
    "      for i in range(len(experts)):\n",
    "        if experts[i] == self.prediction:\n",
    "          pass\n",
    "        else:\n",
    "          experts_weight[i] -= epsilon\n",
    "    else:\n",
    "      for i in range(len(experts)):\n",
    "        if experts[i] == self.prediction:\n",
    "          experts_weight[i] -= epsilon\n",
    "        else:\n",
    "          pass\n",
    "\n",
    "  def plot(self):\n",
    "    A = 0\n",
    "    B = 0\n",
    "    n_A = 0\n",
    "    n_B = 0\n",
    "    for i in range(len(experts)):\n",
    "      if experts[i] == \"A\":\n",
    "        A += experts_weight[i]\n",
    "        n_A += 1\n",
    "      else:\n",
    "        B += experts_weight[i]\n",
    "        n_B += 1\n",
    "    x = [\"A\", \"B\"]\n",
    "    y = [A/n_A, B/n_B]\n",
    "    plt.bar(x, y)\n",
    "    plt.show()\n",
    "\n",
    "\n",
    "n = 3\n",
    "experts_weight = [1]*n\n",
    "\n",
    "for i in range(3):\n",
    "  experts = [random.choice([\"A\", \"B\"]) for i in range(n)]\n",
    "  wm1 = wm(experts, experts_weight)\n",
    "  wm1.predict()\n",
    "  wm1.update(random.choice([\"A\", \"B\"]), 0.2)\n",
    "  print(f\"{i+1}:正解は{wm1.true_list}，エキスパートが選択したのは{experts}エキスパートのウェイトは{experts_weight}\")"
   ]
  },
  {
   "cell_type": "markdown",
   "metadata": {},
   "source": [
    "### Hedge algorithm"
   ]
  },
  {
   "cell_type": "code",
   "execution_count": 57,
   "metadata": {},
   "outputs": [
    {
     "name": "stdout",
     "output_type": "stream",
     "text": [
      "[1, 1, 1]\n",
      "Selected expert: 2\n",
      "Loss incurred: 1\n",
      "New weights: [1, 1, 0.9048374180359595]\n",
      "expected loss: 0.3333333333333333\n",
      "Selected expert: 1\n",
      "Loss incurred: 1\n",
      "New weights: [1, 0.9048374180359595, 0.9048374180359595]\n",
      "expected loss: 0.6557466542564274\n",
      "Selected expert: 0\n",
      "Loss incurred: 0\n",
      "New weights: [1.0, 0.9048374180359595, 0.9048374180359595]\n",
      "expected loss: 0.6440869287927797\n",
      "Selected expert: 2\n",
      "Loss incurred: 1\n",
      "New weights: [1.0, 0.9048374180359595, 0.8187307530779817]\n",
      "expected loss: 0.6440869287927797\n",
      "Selected expert: 2\n",
      "Loss incurred: 1\n",
      "New weights: [1.0, 0.9048374180359595, 0.7408182206817177]\n",
      "expected loss: 0.6328345988890746\n",
      "Selected expert: 2\n",
      "Loss incurred: 1\n",
      "New weights: [1.0, 0.9048374180359595, 0.6703200460356391]\n",
      "expected loss: 0.6220218590183981\n",
      "Selected expert: 2\n",
      "Loss incurred: 0\n",
      "New weights: [1.0, 0.9048374180359595, 0.6703200460356391]\n",
      "expected loss: 0.351371685289223\n",
      "Selected expert: 2\n",
      "Loss incurred: 0\n",
      "New weights: [1.0, 0.9048374180359595, 0.6703200460356391]\n",
      "expected loss: 0.351371685289223\n",
      "Selected expert: 1\n",
      "Loss incurred: 1\n",
      "New weights: [1.0, 0.8187307530779817, 0.6703200460356391]\n",
      "expected loss: 0.351371685289223\n",
      "Selected expert: 0\n",
      "Loss incurred: 0\n",
      "New weights: [1.0, 0.8187307530779817, 0.6703200460356391]\n",
      "expected loss: 0.3289329222889067\n"
     ]
    }
   ],
   "source": [
    "import random\n",
    "import math\n",
    "epsilon = 0.1\n",
    "iter = 5\n",
    "\n",
    "\n",
    "# initialize weights and loss for each expert \n",
    "num_experts = 3\n",
    "W = [1]*num_experts\n",
    "loss = [0]*num_experts\n",
    "\n",
    "print(W) # the number of experts is 3\n",
    "\n",
    "for t in range(10):\n",
    "  # pick the experts randomly W[i] ~ W/total(W)\n",
    "  # normalize weights\n",
    "  total_weight = sum(W) # sum of weights\n",
    "  probs = [w/total_weight for w in W] # probability of each expert\n",
    "\n",
    "  # randomly select an expert\n",
    "  rand_num = random.uniform(0, 1) # random number between 0 and 1\n",
    "  cum_prob = 0 # cumulative probability\n",
    "  for i in range(num_experts): # loop over experts\n",
    "      cum_prob += probs[i] # add the probability of the current expert\n",
    "      if rand_num <= cum_prob: # if the random number is less than the cumulative probability\n",
    "          selected_expert = i # select the current expert\n",
    "          break\n",
    "\n",
    "  print(\"Selected expert:\", selected_expert) # print the selected expert\n",
    "\n",
    "  #incur loss on the selected expert\n",
    "  loss[selected_expert] = random.choice([0, 1]) # incur loss on the selected expert\n",
    "  W[selected_expert] = W[selected_expert]*math.exp(-epsilon*loss[selected_expert])\n",
    "\n",
    "  print(\"Loss incurred:\", loss[selected_expert]) # print the loss incurred\n",
    "  print(\"New weights:\", W) # print the new weights\n",
    "  print(\"expected loss:\", sum([probs[i]*loss[i] for i in range(num_experts)])) # print the expected loss"
   ]
  },
  {
   "cell_type": "code",
   "execution_count": null,
   "metadata": {},
   "outputs": [],
   "source": []
  }
 ],
 "metadata": {
  "kernelspec": {
   "display_name": "Python 3",
   "language": "python",
   "name": "python3"
  },
  "language_info": {
   "codemirror_mode": {
    "name": "ipython",
    "version": 3
   },
   "file_extension": ".py",
   "mimetype": "text/x-python",
   "name": "python",
   "nbconvert_exporter": "python",
   "pygments_lexer": "ipython3",
   "version": "3.11.0"
  },
  "orig_nbformat": 4
 },
 "nbformat": 4,
 "nbformat_minor": 2
}
