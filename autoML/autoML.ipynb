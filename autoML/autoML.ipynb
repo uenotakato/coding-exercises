{
 "cells": [
  {
   "cell_type": "code",
   "execution_count": 3,
   "metadata": {},
   "outputs": [],
   "source": [
    "import os\n",
    "import numpy as np\n",
    "from matplotlib import pyplot as plt\n",
    "from cmdstanpy import CmdStanModel\n",
    "import arviz as az\n",
    "\n",
    "az.style.use(\"arviz-darkgrid\")\n",
    "np.random.seed(0)\n",
    "\n",
    "script_dir = os.path.dirname('autoML.ipynb')"
   ]
  },
  {
   "cell_type": "code",
   "execution_count": 4,
   "metadata": {},
   "outputs": [
    {
     "name": "stderr",
     "output_type": "stream",
     "text": [
      "18:59:54 - cmdstanpy - INFO - compiling stan file /Users/tueno/Documents/master/master-thesis/coding-exercises/autoML/model.stan to exe file /Users/tueno/Documents/master/master-thesis/coding-exercises/autoML/model\n",
      "18:59:57 - cmdstanpy - INFO - compiled model executable: /Users/tueno/Documents/master/master-thesis/coding-exercises/autoML/model\n",
      "18:59:57 - cmdstanpy - INFO - CmdStan start processing\n"
     ]
    },
    {
     "data": {
      "application/vnd.jupyter.widget-view+json": {
       "model_id": "1b1001e54ff6473cb093ec0bf2d22072",
       "version_major": 2,
       "version_minor": 0
      },
      "text/plain": [
       "chain 1 |          | 00:00 Status"
      ]
     },
     "metadata": {},
     "output_type": "display_data"
    },
    {
     "data": {
      "application/vnd.jupyter.widget-view+json": {
       "model_id": "6c2b37e2332b4878a4b77a02867f0fe4",
       "version_major": 2,
       "version_minor": 0
      },
      "text/plain": [
       "chain 2 |          | 00:00 Status"
      ]
     },
     "metadata": {},
     "output_type": "display_data"
    },
    {
     "name": "stdout",
     "output_type": "stream",
     "text": [
      "                                                                                                                                                                "
     ]
    },
    {
     "name": "stderr",
     "output_type": "stream",
     "text": [
      "18:59:57 - cmdstanpy - INFO - CmdStan done processing.\n"
     ]
    },
    {
     "name": "stdout",
     "output_type": "stream",
     "text": [
      "\n",
      "Processing csv files: /var/folders/nr/8kygzlbx7djc1yh15qnzhhgr0000gn/T/tmp55zq8kw0/modelcr2daf6y/model-20230418185957_1.csv, /var/folders/nr/8kygzlbx7djc1yh15qnzhhgr0000gn/T/tmp55zq8kw0/modelcr2daf6y/model-20230418185957_2.csv\n",
      "\n",
      "Checking sampler transitions treedepth.\n",
      "Treedepth satisfactory for all transitions.\n",
      "\n",
      "Checking sampler transitions for divergences.\n",
      "No divergent transitions found.\n",
      "\n",
      "Checking E-BFMI - sampler transitions HMC potential energy.\n",
      "E-BFMI satisfactory.\n",
      "\n",
      "Effective sample size satisfactory.\n",
      "\n",
      "Split R-hat values satisfactory all parameters.\n",
      "\n",
      "Processing complete, no problems detected.\n",
      "\n"
     ]
    }
   ],
   "source": [
    "N = 40  # アリスのデザインA案の表示数\n",
    "a = 2   # アリスのデザインA案のクリック数\n",
    "\n",
    "file_path = os.path.join(script_dir, 'model.stan')\n",
    "model = CmdStanModel(stan_file=file_path)\n",
    "\n",
    "data = {'N': N, 'a': a}\n",
    "\n",
    "fit = model.sample(\n",
    "  data=data,\n",
    "  chains=2,\n",
    "  seed=0,\n",
    "  iter_warmup=1000,\n",
    "  iter_sampling=5000,\n",
    "  show_progress=True\n",
    ")\n",
    "\n",
    "cmdstanpy_data = az.from_cmdstanpy(\n",
    "    posterior=fit,\n",
    "    log_likelihood=\"lp__\",\n",
    ")\n",
    "\n",
    "print(fit.diagnose())"
   ]
  },
  {
   "cell_type": "code",
   "execution_count": 5,
   "metadata": {},
   "outputs": [
    {
     "data": {
      "text/html": [
       "<div>\n",
       "<style scoped>\n",
       "    .dataframe tbody tr th:only-of-type {\n",
       "        vertical-align: middle;\n",
       "    }\n",
       "\n",
       "    .dataframe tbody tr th {\n",
       "        vertical-align: top;\n",
       "    }\n",
       "\n",
       "    .dataframe thead th {\n",
       "        text-align: right;\n",
       "    }\n",
       "</style>\n",
       "<table border=\"1\" class=\"dataframe\">\n",
       "  <thead>\n",
       "    <tr style=\"text-align: right;\">\n",
       "      <th></th>\n",
       "      <th>Mean</th>\n",
       "      <th>MCSE</th>\n",
       "      <th>StdDev</th>\n",
       "      <th>5%</th>\n",
       "      <th>50%</th>\n",
       "      <th>95%</th>\n",
       "      <th>N_Eff</th>\n",
       "      <th>N_Eff/s</th>\n",
       "      <th>R_hat</th>\n",
       "    </tr>\n",
       "  </thead>\n",
       "  <tbody>\n",
       "    <tr>\n",
       "      <th>lp__</th>\n",
       "      <td>-11.348300</td>\n",
       "      <td>0.012931</td>\n",
       "      <td>0.766539</td>\n",
       "      <td>-12.924500</td>\n",
       "      <td>-11.045700</td>\n",
       "      <td>-10.809500</td>\n",
       "      <td>3513.82</td>\n",
       "      <td>41339.1</td>\n",
       "      <td>1.00013</td>\n",
       "    </tr>\n",
       "    <tr>\n",
       "      <th>theta</th>\n",
       "      <td>0.070999</td>\n",
       "      <td>0.000644</td>\n",
       "      <td>0.039608</td>\n",
       "      <td>0.019248</td>\n",
       "      <td>0.063778</td>\n",
       "      <td>0.145619</td>\n",
       "      <td>3786.57</td>\n",
       "      <td>44547.9</td>\n",
       "      <td>1.00080</td>\n",
       "    </tr>\n",
       "  </tbody>\n",
       "</table>\n",
       "</div>"
      ],
      "text/plain": [
       "            Mean      MCSE    StdDev         5%        50%        95%  \\\n",
       "lp__  -11.348300  0.012931  0.766539 -12.924500 -11.045700 -10.809500   \n",
       "theta   0.070999  0.000644  0.039608   0.019248   0.063778   0.145619   \n",
       "\n",
       "         N_Eff  N_Eff/s    R_hat  \n",
       "lp__   3513.82  41339.1  1.00013  \n",
       "theta  3786.57  44547.9  1.00080  "
      ]
     },
     "execution_count": 5,
     "metadata": {},
     "output_type": "execute_result"
    }
   ],
   "source": [
    "fit.summary()"
   ]
  },
  {
   "cell_type": "code",
   "execution_count": 16,
   "metadata": {},
   "outputs": [
    {
     "name": "stderr",
     "output_type": "stream",
     "text": [
      "/Users/tueno/.pyenv/versions/3.11.0/lib/python3.11/site-packages/scipy/stats/_continuous_distns.py:709: RuntimeWarning: invalid value encountered in sqrt\n",
      "  sk = 2*(b-a)*np.sqrt(a + b + 1) / (a + b + 2) / np.sqrt(a*b)\n"
     ]
    },
    {
     "data": {
      "image/png": "[encoded data removed]",
      "text/plain": [
       "<Figure size 720x480 with 1 Axes>"
      ]
     },
     "metadata": {},
     "output_type": "display_data"
    }
   ],
   "source": [
    "# what is the posterior distribution of theta?\n",
    "# module import\n",
    "import scipy.optimize\n",
    "import scipy.stats as stats\n",
    "\n",
    "theta_samples = fit.stan_variable('theta')\n",
    "# Fit a beta distribution to the posterior samples\n",
    "a, b, loc, scale = stats.beta.fit(theta_samples)\n",
    "\n",
    "# Plot the histogram of the posterior samples and the fitted beta distribution\n",
    "x = np.linspace(0, 1, 100)\n",
    "plt.hist(theta_samples, bins=50, density=True, alpha=0.5, label='posterior')\n",
    "plt.plot(x, stats.beta.pdf(x, a, b, loc, scale), label='fit')\n",
    "plt.legend()\n",
    "plt.show()"
   ]
  },
  {
   "cell_type": "code",
   "execution_count": 17,
   "metadata": {},
   "outputs": [
    {
     "name": "stdout",
     "output_type": "stream",
     "text": [
      "2.915229548672695 42.64390073064389 0.00031199489327531484 1.1046979470438039\n"
     ]
    }
   ],
   "source": [
    "print(a,b,loc,scale)"
   ]
  },
  {
   "cell_type": "code",
   "execution_count": null,
   "metadata": {},
   "outputs": [],
   "source": []
  }
 ],
 "metadata": {
  "kernelspec": {
   "display_name": "bayesian-modeling",
   "language": "python",
   "name": "python3"
  },
  "language_info": {
   "codemirror_mode": {
    "name": "ipython",
    "version": 3
   },
   "file_extension": ".py",
   "mimetype": "text/x-python",
   "name": "python",
   "nbconvert_exporter": "python",
   "pygments_lexer": "ipython3",
   "version": "3.11.0"
  },
  "orig_nbformat": 4
 },
 "nbformat": 4,
 "nbformat_minor": 2
}
